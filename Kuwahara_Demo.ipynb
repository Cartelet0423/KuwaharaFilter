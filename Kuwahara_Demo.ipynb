{
 "cells": [
  {
   "cell_type": "code",
   "execution_count": 1,
   "metadata": {},
   "outputs": [],
   "source": [
    "import numpy as np\n",
    "import cv2\n",
    "import matplotlib.pyplot as plt\n",
    "from ipywidgets import interact\n",
    "import requests\n",
    "from PIL import Image\n",
    "import io\n",
    "%matplotlib inline"
   ]
  },
  {
   "cell_type": "code",
   "execution_count": 2,
   "metadata": {},
   "outputs": [],
   "source": [
    "def kuwahara(pic,r=5,resize=False,rate=0.5):\n",
    "    h,w,_=pic.shape\n",
    "    if resize:pic=cv2.resize(pic,(int(w*rate),int(h*rate)));h,w,_=pic.shape\n",
    "    pic=np.pad(pic,((r,r),(r,r),(0,0)),\"edge\")\n",
    "    ave,var=cv2.integral2(pic)\n",
    "    ave=((ave[:-r-1,:-r-1]+ave[r+1:,r+1:]-ave[r+1:,:-r-1]-ave[:-r-1,r+1:])/(r+1)**2)\n",
    "    var=((var[:-r-1,:-r-1]+var[r+1:,r+1:]-var[r+1:,:-r-1]-var[:-r-1,r+1:])/(r+1)**2-ave**2).sum(axis=2)\n",
    "    def filt(i,j):\n",
    "        return np.array([ave[i,j],ave[i+r,j],ave[i,j+r],ave[i+r,j+r]])[(np.array([var[i,j],var[i+r,j],var[i,j+r],var[i+r,j+r]]).argmin(axis=0).flatten(),j.flatten(),i.flatten())].reshape(w,h,_).transpose(1,0,2)\n",
    "    filtered_pic = filt(*np.meshgrid(np.arange(h),np.arange(w))).astype(pic.dtype)\n",
    "    return filtered_pic"
   ]
  },
  {
   "cell_type": "code",
   "execution_count": 3,
   "metadata": {},
   "outputs": [
    {
     "name": "stdout",
     "output_type": "stream",
     "text": [
      "URL:https://camo.qiitausercontent.com/bfe670fb577994f0a3858a97bfb7bfa8d85eb201/68747470733a2f2f71696974612d696d6167652d73746f72652e73332e61702d6e6f727468656173742d312e616d617a6f6e6177732e636f6d2f302f3530313238312f37643331353937302d376432352d333865342d303866622d3934323263396332646239342e6a706567\n"
     ]
    },
    {
     "data": {
      "application/vnd.jupyter.widget-view+json": {
       "model_id": "b3273a15ad974fa2aacc04a6179a77d1",
       "version_major": 2,
       "version_minor": 0
      },
      "text/plain": [
       "interactive(children=(IntSlider(value=15, description='r', max=30, min=1), IntSlider(value=70, description='ra…"
      ]
     },
     "metadata": {},
     "output_type": "display_data"
    }
   ],
   "source": [
    "url = input(\"URL:\")\n",
    "\n",
    "pic = np.array(Image.open(io.BytesIO(requests.get(url).content)))\n",
    "\n",
    "@interact(r=(1,30),rate=(0,150,10))\n",
    "def interactkuwa(r,rate):\n",
    "    im=pic.copy()\n",
    "    plt.figure(figsize=(15, 15))\n",
    "    filtered_pic=kuwahara(im,r,1,rate/100)\n",
    "    plt.imshow(filtered_pic)"
   ]
  }
 ],
 "metadata": {
  "kernelspec": {
   "display_name": "Python 3",
   "language": "python",
   "name": "python3"
  },
  "language_info": {
   "codemirror_mode": {
    "name": "ipython",
    "version": 3
   },
   "file_extension": ".py",
   "mimetype": "text/x-python",
   "name": "python",
   "nbconvert_exporter": "python",
   "pygments_lexer": "ipython3",
   "version": "3.7.3"
  }
 },
 "nbformat": 4,
 "nbformat_minor": 4
}
