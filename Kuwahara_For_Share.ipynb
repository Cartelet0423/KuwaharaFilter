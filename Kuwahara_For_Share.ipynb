{
 "cells": [
  {
   "cell_type": "code",
   "execution_count": 1,
   "metadata": {},
   "outputs": [],
   "source": [
    "import numpy as np\n",
    "import cv2\n",
    "import matplotlib.pyplot as plt\n",
    "from ipywidgets import interact\n",
    "import tkinter\n",
    "import tkinter.filedialog\n",
    "import tkinter.messagebox\n",
    "%matplotlib inline"
   ]
  },
  {
   "cell_type": "code",
   "execution_count": 2,
   "metadata": {},
   "outputs": [],
   "source": [
    "def kuwahara(pic,r=5,resize=False,rate=0.5):\n",
    "    h,w,_=pic.shape\n",
    "    if resize:pic=cv2.resize(pic,(int(w*rate),int(h*rate)));h,w,_=pic.shape\n",
    "    pic=np.pad(pic,((r,r),(r,r),(0,0)),\"edge\")\n",
    "    ave,var=cv2.integral2(pic)\n",
    "    ave=((ave[:-r-1,:-r-1]+ave[r+1:,r+1:]-ave[r+1:,:-r-1]-ave[:-r-1,r+1:])/(r+1)**2)\n",
    "    var=((var[:-r-1,:-r-1]+var[r+1:,r+1:]-var[r+1:,:-r-1]-var[:-r-1,r+1:])/(r+1)**2-ave**2).sum(axis=2)\n",
    "    def filt(i,j):\n",
    "        return np.array([ave[i,j],ave[i+r,j],ave[i,j+r],ave[i+r,j+r]])[(np.array([var[i,j],var[i+r,j],var[i,j+r],var[i+r,j+r]]).argmin(axis=0).flatten(),j.flatten(),i.flatten())].reshape(w,h,_).transpose(1,0,2)\n",
    "    filtered_pic = filt(*np.meshgrid(np.arange(h),np.arange(w))).astype(pic.dtype)\n",
    "    return filtered_pic"
   ]
  },
  {
   "cell_type": "code",
   "execution_count": 3,
   "metadata": {},
   "outputs": [
    {
     "data": {
      "application/vnd.jupyter.widget-view+json": {
       "model_id": "06c3625bfc70484d98251ea842b3b88a",
       "version_major": 2,
       "version_minor": 0
      },
      "text/plain": [
       "interactive(children=(IntSlider(value=15, description='r', max=30, min=1), IntSlider(value=50, description='ra…"
      ]
     },
     "metadata": {},
     "output_type": "display_data"
    }
   ],
   "source": [
    "tkinter.Tk().withdraw()\n",
    "pic=np.array(plt.imread(tkinter.filedialog.askopenfilename()))\n",
    "\n",
    "@interact(r=(1,30),rate=(0,100),T=(0,1))\n",
    "def interactkuwa(r,rate,T):\n",
    "    im=pic.copy()\n",
    "    plt.figure(figsize=(15, 15))\n",
    "    filtered_pic=kuwahara(im,r,1,rate/100)\n",
    "    if T:plt.imshow(filtered_pic.transpose(1,0,2)[:,::-1])\n",
    "    else:plt.imshow(filtered_pic)"
   ]
  }
 ],
 "metadata": {
  "kernelspec": {
   "display_name": "Python 3",
   "language": "python",
   "name": "python3"
  },
  "language_info": {
   "codemirror_mode": {
    "name": "ipython",
    "version": 3
   },
   "file_extension": ".py",
   "mimetype": "text/x-python",
   "name": "python",
   "nbconvert_exporter": "python",
   "pygments_lexer": "ipython3",
   "version": "3.7.3"
  }
 },
 "nbformat": 4,
 "nbformat_minor": 4
}
